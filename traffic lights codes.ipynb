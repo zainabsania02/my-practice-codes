{
 "cells": [
  {
   "cell_type": "code",
   "execution_count": 2,
   "id": "9fb99b43",
   "metadata": {},
   "outputs": [],
   "source": [
    "import time"
   ]
  },
  {
   "cell_type": "code",
   "execution_count": 3,
   "id": "6ff25de9",
   "metadata": {},
   "outputs": [
    {
     "name": "stdout",
     "output_type": "stream",
     "text": [
      "Red\n",
      "Yellow\n",
      "Green\n"
     ]
    }
   ],
   "source": [
    "\n",
    "def traffic_signal():\n",
    "    while True:\n",
    "        print(\"Red\")\n",
    "        time.sleep(5)\n",
    "        print(\"Yellow\")\n",
    "        time.sleep(2)\n",
    "        print(\"Green\")\n",
    "        time.sleep(7)\n",
    "        break\n",
    "traffic_signal()"
   ]
  },
  {
   "cell_type": "code",
   "execution_count": null,
   "id": "5799699c",
   "metadata": {},
   "outputs": [],
   "source": []
  },
  {
   "cell_type": "code",
   "execution_count": null,
   "id": "aa00392a",
   "metadata": {},
   "outputs": [],
   "source": []
  }
 ],
 "metadata": {
  "kernelspec": {
   "display_name": "Python 3 (ipykernel)",
   "language": "python",
   "name": "python3"
  },
  "language_info": {
   "codemirror_mode": {
    "name": "ipython",
    "version": 3
   },
   "file_extension": ".py",
   "mimetype": "text/x-python",
   "name": "python",
   "nbconvert_exporter": "python",
   "pygments_lexer": "ipython3",
   "version": "3.9.13"
  }
 },
 "nbformat": 4,
 "nbformat_minor": 5
}
